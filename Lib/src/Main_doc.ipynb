{
    "nbformat":4,"nbformat_minor":0,"metadata": {
        "colab": {
            "provenance":[],"authorship_tag":"ABX9TyPyI4ifaisvv3glJSaxNVQW"
        },"kernelspec": {
            "name":"python3","display_name":"Python 3"
        },"language_info": {
            "name":"python"
        }},"cells":[{
            "cell_type": "markdown",
            "id": "y6yt6y7y",
            "metadata": {},
            "source": [
                "#Lib.main\n## New_Math \n",
                "\n ### Round \n",
                " **This function is for getting approximation** \n",
                "\nWhen decimal value of num is between \n",
                " 0.25-0.85, it will print as they are.\n"
            ]
        },
        {
            "cell_type": "code",
            "execution_count": 1,
            "id": "h7y5yr67",
            "metadata": {},
            "outputs": [{
                "name": "stdout",
                "output_type": "stream",
                "text": [
                    "7.4\n"
                ]
            }],
            "source": [
                "from Lib.main import *\n",
                "num=7.4\n",
                "new_math.round(num)\n"
            ]
        },
        {
            "cell_type": "markdown",
            "id": "e66ee7ek",
            "metadata": {},
            "source": [
                "\n",
                "If decimal value of number is lower than 0.25, it will print their floor value.\n"
            ]
        },
        {
            "cell_type": "code",
            "execution_count": 2,
            "id": "h7y5yj67",
            "metadata": {},
            "outputs": [{
                "name": "stdout",
                "output_type": "stream",
                "text": [
                    "2\n"
                ]
            }],
            "source": [
                "from Lib.main import *\n",
                "num=2.1\n",
                "new_math.round(num)\n"
            ]
        },
        {
            "cell_type": "markdown",
            "id": "966eo7ek",
            "metadata": {},
            "source": [
                "\n",
                "If decimal value is greater than 0.85, it will print their ceiling value\n"
            ]
        },
        {
            "cell_type": "code",
            "execution_count": 3,
            "id": "h5y5yr67",
            "metadata": {},
            "outputs": [{
                "name": "stdout",
                "output_type": "stream",
                "text": [
                    "7\n"
                ]
            }],
            "source": [
                "from Lib.main import *\n",
                "num=6.87\n",
                "new_math.round(num)\n"
            ]
        },
        {
            "cell_type": "markdown",
            "id": "e6qee7ek",
            "metadata": {},
            "source": [
                "### Cbrt \n",
                " **This function is for getting Cuberoot of given number**\n"
            ]
        },
        {
            "cell_type": "code",
            "execution_count": 4,
            "id": "h7y5yr65",
            "metadata": {},
            "outputs": [{
                "name": "stdout",
                "output_type": "stream",
                "text": [
                    "12\n"
                ]
            }],
            "source": [
                "from Lib.main import *\n",
                "new_math.cbrt(1728)\n"
            ]
        },
        {
            "cell_type": "markdown",
            "id": "e66we7ek",
            "metadata": {},
            "source": [
                "### Logadd \n",
                " **This function is for getting addition of log values** \n"
            ]
        },
        {
            "cell_type": "code",
            "execution_count": 5,
            "id": "h9y5yr67",
            "metadata": {},
            "outputs": [{
                "name": "stdout",
                "output_type": "stream",
                "text": [
                    "0.7781\n"
                ]
            }],
            "source": [
                "from Lib.main import *\n",
                "new_math.logadd(2,3)\n"
            ]
        },
        {
            "cell_type": "markdown",
            "id": "e66ep7ek",
            "metadata": {},
            "source": [
                "### Logsub \n",
                " **This function is for getting subtraction of log values** \n"
            ]
        },
        {
            "cell_type": "code",
            "execution_count": 6,
            "id": "c7y5yr67",
            "metadata": {},
            "outputs": [{
                "name": "stdout",
                "output_type": "stream",
                "text": [
                    "0.6989\n"
                ]
            }],
            "source": [
                "from Lib.main import *\n",
                "new_math.logsub(10,2)\n"
            ]
        },
        {
            "cell_type": "markdown",
            "id": "e6h7e7ek",
            "metadata": {},
            "source": [
                " ### About New_Math \n",
                "**It is an attribute of Lib.main, it made for fulfillment of requirements, programmers require in math module** \n",
                "\n",
                " ## Matrix \n\n",
                "**This function is for getting matrix form of a list, tuple, or sets**\n\n"
            ]
        },
        {
            "cell_type": "code",
            "execution_count": 7,
            "id": "h7y5ar67",
            "metadata": {},
            "outputs": [{
                "name": "stdout",
                "output_type": "stream",
                "text": [
                    "2 5 7\n",
                    "3 2 6\n",
                    "4 7 2\n"
                ]
            }],
            "source": [
                "from Lib.main import *\n",
                "matrix.matrix([[2,5,7],[3,2,6],[4,7,2]])\n"
            ]
        },
        {
            "cell_type": "markdown",
            "id": "f66e9hek",
            "metadata": {},
            "source": [
                " ### Mat_trans \n",
                " **This function is for getting transpose of matrix form of list, tuple or set** \n"
            ]
        },
        {
            "cell_type": "code",
            "execution_count": 8,
            "id": "h7j5yr67",
            "metadata": {},
            "outputs": [{
                "name": "stdout",
                "output_type": "stream",
                "text": [
                    "2 3 4\n",
                    "5 2 7\n",
                    "7 6 2\n"
                ]
            }],
            "source": [
                "from Lib.main import *\n",
                " \n",
                "matrix.mat_trans([[2,5,7],[3,2,6],[4,7,2]])\n"
            ]
        },
        {
            "cell_type": "markdown",
            "id": "e66ed6ek",
            "metadata": {},
            "source": [
                " ### determin \n",
                " **This function is for getting determinant of a matrix form of list, tuple or set** \n"
            ]
        },
        {
            "cell_type": "code",
            "execution_count": 9,
            "id": "a7y5yr67",
            "metadata": {},
            "outputs": [{
                "name": "stdout",
                "output_type": "stream",
                "text": [
                    "105\n"
                ]
            }],
            "source": [
                "from Lib.main import *\n",
                "matrix.determin([[2,5,7],[3,2,6],[4,7,2]])\n"
            ]
        },
        {
            "cell_type": "markdown",
            "id": "e66y67ek",
            "metadata": {},
            "source": [
                " ### About Matrix \n",
                " **Matrix is an attribute of Lib.main, it is for making matrix, transpose of matrix and determinant of list, tuple or set** \n",
                "\n",
                " ## Notation \n",
                "\n",
                " ### Prefix \n",
                "  **This function is for getting solution of a given Prefix format question, question should be given in string data type** \n"
            ]
        },
        {
            "cell_type": "code",
            "execution_count": 10,
            "id": "h7y3yr67",
            "metadata": {},
            "outputs": [{
                "name": "stdout",
                "output_type": "stream",
                "text": [
                    "7\n",
                    "3\n"
                ]
            }],
            "source": [
                "from Lib.main import *\n",
                "notation.prefix('+25')\n",
                "notation.prefix('/93')\n"
            ]
        },
        {
            "cell_type": "markdown",
            "id": "e6h8e7ek",
            "metadata": {},
            "source": [
                " ### Postfix \n",
                " **This function is for getting solution of a given Postfix format question, question should b given in string data type**\n"
            ]
        },
        {
            "cell_type": "code",
            "execution_count": 11,
            "id": "j7y5yr67",
            "metadata": {},
            "outputs": [{
                "name": "stdout",
                "output_type": "stream",
                "text": [
                    "2\n",
                    "6\n"
                ]
            }],
            "source": [
                "from Lib.main import *\n",
                "notation.postfix('97-')\n",
                "notation.postfix('23*')\n"
            ]
        },
        {
            "cell_type": "markdown",
            "id": "e69ic7ek",
            "metadata": {},
            "source": [
                " ### About Notation \n",
                " **Notation is an attribute of Lib.main, it is made for getting solution of questions given in Prefix or Postfix equations\n\n"
            ]
        },
        {
            "cell_type":"markdown","source":["# Lib.shapes \n","\n","## Cuboid"],"metadata": {
                "id":"j8IWK_wxeuzP"
            }}, {
            "cell_type":"code","execution_count":null,"metadata": {
                "id":"D-0LInRhZQyB"
            },"outputs":[],"source":["import math \n","class Cuboid:\n","    def __init__(self, length: float, brea: float, hei: float):\n","        self.length = len;\n","        self.brea= brea\n","        self.hei = hei;\n","    def TotalSurfaceArea(self):\n","        return 2*(self.length*self.brea + self.brea*self.hei + self.length*self.hei); \n","    def LateralSurfaceArea(self):\n","        return 2*(self.length + self.brea)* self.hei;\n","    def Volume(self):\n","        return self.length * self.hei * self.brea;\n","    def lengthofDiagonal(self):\n","        return math.sqrt(math.pow(self.length, 2) + math.pow(self.brea, 2) + math.pow(self.hei, 2));\n","    def execution(self):\n","        print(f\"Total Surface area: {self.TotalSurfaceArea()}\")\n","        print(f\"Lateral Surface area: {self.LateralSurfaceArea()}\")\n","        print(f\"Volume: {self.Volume()}\")\n","        print(f\"Length of Diagonal: {self.lengthofDiagonal()}\")"]}, {
            "cell_type":"markdown","source":["**It has a constructor**\n","\n","**It is used to get Total Surface area, Lateral Surface area, Volume, length of Diagonal and a execution method**\n","\n","### __init__\n","\n","It takes length, breadth and height of Cuboid \n","```python \n","from Lib.shapes import *;\n","len: float = 9;\n","brea: float= 8;\n","hei: float = 7;\n","cuboid: Cuboid = Cuboid(len, brea, hei);\n","```\n","\n","### TotalSurfaceArea\n","\n","it returns Total Surface area of Cuboid which is \n","\n","$2×(l×b + l×h + h×b)$\n","\n","```python\n","print(cuboid.TotalSurfaceArea())\n","```\n","`382`\n","\n","### LateralSurfaceArea\n","\n","it returns Lateral Surface area of Cuboid which is $2×(l + b)× h$\n","\n","```python\n","print(cuboid.LateralSurfaceArea())\n","```\n","`238`\n","\n","### Volume \n","\n","it returns Volume of Cuboid which is $l×b×h\\$\n","\n","```python\n","print(cuboid.Volume())\n","```\n","`504`\n","\n","### lengthofDiagonal\n","\n","it return length of Diagonal of Cuboid which is $\\sqrt{l&sup2; + b&sup2; + h&sup2;}\\$\n","\n","```python\n","print(cuboid.lengthofDiagonal())\n","```\n","`13.92`\n","\n","### execution\n","\n","it prints the value returned by TotalSurfaceArea, LateralSurfaceArea, Volume, lengthofDiagonal \n","\n","```python\n","cuboid.execution()\n","```\n","```\n","Total Surface area: 382\n","Lateral Surface area: 238\n","Volume: 504\n","Length of Diagonal: 13.92\n","```\n","\n","## Cube"],"metadata": {
                "id":"60Wo-LZKavik"
            }}, {
            "cell_type":"code","source":["class Cube:\n","    def __init__(self, side: float):\n","        self.side = side;\n","    def TotalSurfaceArea(self):\n","        return 6* self.side * self.side; \n","    def LateralSurfaceArea(self):\n","        return 4* self.side* self.side;\n","    def Volume(self):\n","        return self.side * self.side * self.side;\n","    def lengthofDiagonal(self):\n","        return self.side* 1.73;\n","    def execution(self):\n","        print(f\"Total Surface area: {self.TotalSurfaceArea()}\")\n","        print(f\"Lateral Surface area: {self.LateralSurfaceArea()}\")\n","        print(f\"Volume: {self.Volume()}\")\n","        print(f\"Length of Diagonal: {self.lengthofDiagonal()}\")"],"metadata": {
                "id":"BRgiua2_a1s6"
            },"execution_count":null,"outputs":[]}, {
            "cell_type":"markdown","source":["**It has a constructor**\n","\n","**It is used to get Total Surface area, Lateral Surface area, Volume, length of Diagonal and a execution method**\n","\n","### __init__\n","\n","It takes side of Cube\n","\n","```python \n","from Lib.shapes import *;\n","side: float= 8;\n","cube: Cube = Cube(side);\n","```\n","\n","### TotalSurfaceArea\n","\n","it returns Total Surface area of Cube which is $6 × a&sup2;\\$\n","\n","```python\n","print(cube.TotalSurfaceArea())\n","```\n","\n","`384`\n","\n","### LateralSurfaceArea\n","\n","it returns Lateral Surface area of Cube which is $4 × a&sup2;\\$\n","\n","```python\n","print(cube.LateralSurfaceArea())\n","```\n","`256`\n","\n","### Volume \n","\n","it returns Volume of Cube which is $a&sup3;\\$\n","\n","```python\n","print(cube.Volume())\n","```\n","\n","`512`\n","\n","### lengthofDiagonal\n","\n","it return length of Diagonal of Cube which is $\\sqrt{3} × a$\n","\n","```python\n","print(cube.lengthofDiagonal())\n","```\n","`13.84`\n","\n","### execution\n","\n","it prints the value returned by TotalSurfaceArea, LateralSurfaceArea, Volume, lengthofDiagonal\n","```python\n","cube.execution()\n","```\n","```\n","Total Surface area: 384\n","Lateral Surface area: 256\n","Volume: 512\n","Length of Diagonal: 13.84\n","```\n","\n","## Sphere"],"metadata": {
                "id":"LgPtj0qQbHij"
            }}, {
            "cell_type":"code","source":["class Sphere:\n","    def __init__(self, radius: float):\n","        self.radius = radius;\n","    def SurfaceArea (self):\n","        return 4 * 3.14 * (self.radius**2);\n","    def Volume(self):\n","        return 1.67 * 3.14 * (self.radius**3);\n","    def execution(self):\n","        print(f\"Surface Area: {self.SurfaceArea()}\");\n","        print(f\"Volume: {self.Volume()}\");"],"metadata": {
                "id":"Bux1KM-sa7y2"
            },"execution_count":null,"outputs":[]}, {
            "cell_type":"markdown","source":["**It has a constructor**\n","\n","**It is used to get Surface area, Volume and a execution method**\n","\n","### __init__\n","\n","It takes radius of Sphere\n","\n","```python \n","from Lib.shapes import *;\n","radius: float= 7;\n","sphere: Sphere = Cube(side);\n","```\n","\n","### SurfaceArea\n","\n","it returns Surface area of Sphere which is\n","$4 × π × r&sup2;$\n","\n","```python\n","print(sphere.TotalSurfaceArea())\n","```\n","\n","`615.44`\n","\n","### Volume \n","\n","it returns Volume of Sphere which is $4/3 × π × r&sup3;\\$\n","\n","```python\n","print(sphere.Volume())\n","```\n","\n","`1798.6234`\n","\n","### execution\n","\n","it prints the value returned by SurfaceArea, Volume\n","```python\n","sphere.execution()\n","```\n","```\n","Surface area: 615.44\n","Volume: 1798.6234\n","```\n","\n","## Cylinder"],"metadata": {
                "id":"LonFIxH8bIly"
            }}, {
            "cell_type":"code","source":["class Cylinder:\n","    def __init__(self, radius: float, height: float):\n","        self.radius = radius;\n","        self.height = height;\n","    def TotalSurfaceArea(self):\n","        return 2* 3.14 * self.radius * (self.height + self.radius);\n","    def CurvedSurfaceArea(self):\n","        return 2* 3.14 * self.radius * self.height;\n","    def Volume(self):\n","        return 3.14 * (self.radius**2) * self.height;\n","    def execution(self):\n","        print(f\"Total Surface Area: {self.TotalSurfaceArea()}\");\n","        print(f\"Curved Surface Area: {self.CurvedSurfaceArea()}\");\n","        print(f\"Volume: {self.Volume()}\");"],"metadata": {
                "id":"knDPtanpa8ed"
            },"execution_count":null,"outputs":[]}, {
            "cell_type":"markdown","source":["**It has a constructor**\n","\n","**It is used to get Total Surface area, Curved Surface area, Volume and a execution method**\n","\n","### __init__\n","\n","It takes radius and height of Cylinder\n","\n","```python \n","from Lib.shapes import *;\n","radius: float= 7;\n","height: float= 3;\n","cylinder: Cylinder = Cylinder(radius, height);\n","```\n","\n","### TotalSurfaceArea\n","\n","it returns Total Surface area of Cylinder which is $2 × π × r × (h + r)$\n","\n","```python\n","print(cylinder.TotalSurfaceArea())\n","```\n","\n","`439.6`\n","\n","### CurvedSurfaceArea\n","\n","it returns Curved Surface area of Cylinder which is $2 × π × r × h\\$\n","\n","```python\n","print(cylinder.CurvedSurfaceArea())\n","```\n","`131.88`\n","\n","### Volume \n","\n","it returns Volume of Cylinder which is $π × r&sup2; × h\\$\n","\n","```python\n","print(cylinder.Volume())\n","```\n","\n","`461.58`\n","\n","### execution\n","\n","it prints the value returned by TotalSurfaceArea, CurvedSurfaceArea, Volume\n","```python\n","sphere.execution()\n","```\n","```\n","Total Surface area: 439.6\n","Curved Surface area: 131.88\n","Volume: 461.58\n","```"],"metadata": {
                "id":"BZ7Zq1XZbJ4H"
            }
    },
    
    ]
}