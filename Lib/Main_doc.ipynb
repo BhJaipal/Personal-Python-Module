{
    "cells": [
        {
            "cell_type": "markdown",
            "id": "y6yt6y7y",
            "metadata": {},
            "source": [
                "## New_Math \n",
                "\n",
                " ### Round \n",
                " **This function is for getting approximation** \n",
                "\n",
                " When decimal value of num is between \n",
                " 0.25-0.8, it will print as they are. "
            ]
        },
        {
            "cell_type": "code",
            "execution_count": 1,
            "id": "h7y5yr67",
            "metadata": {},
            "outputs": [
                {
                    "name": "stdout",
                    "output_type": "stream",
                    "text": [
                        "7.4\n"
                    ]
                }
            ],
            "source": [
                "from Lib.main import *\n",
                "num=7.4\n",
                "new_math.round(num)"
            ]
        },
        {
            "cell_type": "markdown",
            "id": "e66ee7ek",
            "metadata": {},
            "source": [
                "\n",
                "If decimal value of number is lower than 0.25, it will print their floor value."
            ]
        },
        {
            "cell_type": "code",
            "execution_count": 2,
            "id": "h7y5yj67",
            "metadata": {},
            "outputs": [
                {
                    "name": "stdout",
                    "output_type": "stream",
                    "text": [
                        "2\n"
                    ]
                }
            ],
            "source": [
                "from Lib.main import *\n",
                "num=2.1\n",
                "new_math.round(num)"
            ]
        },
        {
            "cell_type": "markdown",
            "id": "966eo7ek",
            "metadata": {},
            "source": [
                "\n",
                "If decimal value is greater than 0.8, it will print their ceiling value"
            ]
        },
        {
            "cell_type": "code",
            "execution_count": 3,
            "id": "h5y5yr67",
            "metadata": {},
            "outputs": [
                {
                    "name": "stdout",
                    "output_type": "stream",
                    "text": [
                        "7\n"
                    ]
                }
            ],
            "source": [
                "from Lib.main import *\n",
                "num=6.8\n",
                "new_math.round(num)"
            ]
        },
        {
            "cell_type": "markdown",
            "id": "e6qee7ek",
            "metadata": {},
            "source": [
                "### Cbrt \n",
                " **This function is for getting Cuberoot of given number** "
            ]
        },
        {
            "cell_type": "code",
            "execution_count": 4,
            "id": "h7y5yr65",
            "metadata": {},
            "outputs": [
                {
                    "name": "stdout",
                    "output_type": "stream",
                    "text": [
                        "12\n"
                    ]
                }
            ],
            "source": [
                "from Lib.main import *\n",
                "new_math.cbrt(1728)"
            ]
        },
        {
            "cell_type": "markdown",
            "id": "e66we7ek",
            "metadata": {},
            "source": [
                "### Logadd \n",
                " **This function is for getting addition of log values** "
            ]
        },
        {
            "cell_type": "code",
            "execution_count": 5,
            "id": "h9y5yr67",
            "metadata": {},
            "outputs": [
                {
                    "name": "stdout",
                    "output_type": "stream",
                    "text": [
                        "0.7781\n"
                    ]
                }
            ],
            "source": [
                "from Lib.main import *\n",
                "new_math.logadd(2,3)"
            ]
        },
        {
            "cell_type": "markdown",
            "id": "e66ep7ek",
            "metadata": {},
            "source": [
                "### Logsub \n",
                " **This function is for getting subtraction of log values** "
            ]
        },
        {
            "cell_type": "code",
            "execution_count": 6,
            "id": "c7y5yr67",
            "metadata": {},
            "outputs": [
                {
                    "name": "stdout",
                    "output_type": "stream",
                    "text": [
                        "0.6989\n"
                    ]
                }
            ],
            "source": [
                "from Lib.main import *\n",
                "new_math.logsub(10,2)"
            ]
        },
        {
            "cell_type": "markdown",
            "id": "e6h7e7ek",
            "metadata": {},
            "source": [
                " ### About New_Math \n",
                "**It is an attribute of Lib.main, it made for fulfillment of requirements, programmers require in math module** \n",
                "\n",
                " ## Matrix \n",
                "\n",
                " ### Matrix \n",
                " **This function is for getting matrix form of a list, tuple, or sets** "
            ]
        },
        {
            "cell_type": "code",
            "execution_count": 7,
            "id": "h7y5ar67",
            "metadata": {},
            "outputs": [
                {
                    "name": "stdout",
                    "output_type": "stream",
                    "text": [
                        "2 5 7\n",
                        "3 2 6\n",
                        "4 7 2\n"
                    ]
                }
            ],
            "source": [
                "from Lib.main import *\n",
                "matrix.matrix([[2,5,7],[3,2,6],[4,7,2]])"
            ]
        },
        {
            "cell_type": "markdown",
            "id": "f66e9hek",
            "metadata": {},
            "source": [
                " ### Mat_trans \n",
                " **This function is for getting transpose of matrix form of list, tuple or set** "
            ]
        },
        {
            "cell_type": "code",
            "execution_count": 8,
            "id": "h7j5yr67",
            "metadata": {},
            "outputs": [
                {
                    "name": "stdout",
                    "output_type": "stream",
                    "text": [
                        "2 3 4\n",
                        "5 2 7\n",
                        "7 6 2\n"
                    ]
                }
            ],
            "source": [
                "from Lib.main import *\n",
                " \n",
                "matrix.mat_trans([[2,5,7],[3,2,6],[4,7,2]])"
            ]
        },
        {
            "cell_type": "markdown",
            "id": "e66ed6ek",
            "metadata": {},
            "source": [
                " ### determin \n",
                " **This function is for getting determinant of a matrix form of list, tuple or set** "
            ]
        },
        {
            "cell_type": "code",
            "execution_count": 8,
            "id": "a7y5yr67",
            "metadata": {},
            "outputs": [
                {
                    "name": "stdout",
                    "output_type": "stream",
                    "text": [
                        "105\n"
                    ]
                }
            ],
            "source": [
                "from Lib.main import *\n",
                "matrix.determin([[2,5,7],[3,2,6],[4,7,2]])"
            ]
        },
        {
            "cell_type": "markdown",
            "id": "e66y67ek",
            "metadata": {},
            "source": [
                " ### About Matrix \n",
                " **Matrix is an attribute of Lib.main, it is for making matrix, transpose of matrix and determinant of list, tuple or set** \n",
                "\n",
                " ## Notation \n",
                "\n",
                " ### Prefix \n",
                "  **This function is for getting solution of a given Prefix format question, question should be given in string data type** "
            ]
        },
        {
            "cell_type": "code",
            "execution_count": 9,
            "id": "h7y3yr67",
            "metadata": {},
            "outputs": [
                {
                    "name": "stdout",
                    "output_type": "stream",
                    "text": [
                        "7\n",
                        "3\n"
                    ]
                }
            ],
            "source": [
                "from Lib.main import *\n",
                "notation.prefix('+25')\n",
                "notation.prefix('/93')"
            ]
        },
        {
            "cell_type": "markdown",
            "id": "e6h8e7ek",
            "metadata": {},
            "source": [
                " ### Postfix \n",
                " **This function is for getting solution of a given Postfix format question, question should b given in string data type** "
            ]
        },
        {
            "cell_type": "code",
            "execution_count": 10,
            "id": "j7y5yr67",
            "metadata": {},
            "outputs": [
                {
                    "name": "stdout",
                    "output_type": "stream",
                    "text": [
                        "2\n",
                        "6\n"
                    ]
                }
            ],
            "source": [
                "from Lib.main import *\n",
                "notation.postfix('97-')\n",
                "notation.postfix('23*')"
            ]
        },
        {
            "cell_type": "markdown",
            "id": "e69ec7ek",
            "metadata": {},
            "source": [
                " ### About Notation \n",
                " **Notation is an attribute of Lib.main, it is made for getting solution of questions given in Prefix or Postfix equations and is completed in 0.3.9**"
            ]
        }
    ],
    "metadata": {
        "kernelspec": {
            "display_name": "Python 3",
            "language": "python",
            "name": "python3"
        },
        "language_info": {
            "codemirror_mode": {
                "name": "ipython",
                "version": 3
            },
            "file_extension": ".py",
            "mimetype": "text/x-python",
            "name": "python",
            "nbconvert_exporter": "python",
            "pygments_lexer": "ipython3",
            "version": "3.10.4 (main, Dec 19 2022, 20:24:16) [GCC 9.4.0]"
        },
        "vscode": {
            "interpreter": {
                "hash": "3ad933181bd8a04b432d3370b9dc3b0662ad032c4dfaa4e4f1596c548f763858"
            }
        }
    },
    "nbformat": 4,
    "nbformat_minor": 5
}
