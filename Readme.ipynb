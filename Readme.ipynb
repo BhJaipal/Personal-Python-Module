{"cells": [{
   "cell_type": "markdown",
   "id": "d343b0f6",
   "metadata": {},
   "source": [
    "## Test"]
  },
    {"cell_type":"markdown",
        "id":"u6feyu77g",
        "metadata":{},
        "source":["## Personal-python-module(Lib)\n",
    "> check [init](https://github.com/BhJaipal/Personal-python-module/blob/main/__init__.py)\n",
    "> \n > Open [Main](https://github.com/BhJaipal/Personal-python-module)\n",
    "> \n  > [setup](https://github.com/BhJaipal/Personal-python-module/blob/main/setup.py)\n",
    "> \n > Open [Main](https://github.com/BhJaipal/Personal-python-module/blob/main/main.py) for functions of Personal-python-module\n",
    "> \n > [Documentation](https://github.com/BhJaipal/Personal-python-module/blob/main/Main_doc.md) for Main\n\n",
    "## init.py\n > init\n > \n > new\n > \n > name\n > \n > doc \n\n",
   " | new_math |matrix | notation | \n |-------|----------|---------| \n | round | matrix | prefix | \n | cbrt | mat_trans | postfix | \n | logadd | determin   |       | \n | logsub |     |       | \n\n",
"## Lib.setup \n\n This is setup file \n\n # About\n > This is a Personal python module created by Jaipal Bhanwariya.\n > \n > To access it as a module, save it your python library folder.\n > \n > Then open interpreter and import this file."]
    }
 ],
 "metadata": {
  "kernelspec": {
   "display_name": "venv",
   "language": "python",
   "name": "venv"
  },
  "language_info": {
   "codemirror_mode": {
    "name": "ipython",
    "version": 3
   },
   "file_extension": ".py",
   "mimetype": "text/x-python",
   "name": "python",
   "nbconvert_exporter": "python",
   "pygments_lexer": "ipython3",
   "version": "3.8.0"
 }},
 "nbformat": 4,
 "nbformat_minor": 5
}